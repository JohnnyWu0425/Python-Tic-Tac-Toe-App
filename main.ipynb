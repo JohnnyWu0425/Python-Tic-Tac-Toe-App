{
 "cells": [
  {
   "cell_type": "markdown",
   "metadata": {},
   "source": [
    "# Import Module"
   ]
  },
  {
   "cell_type": "code",
   "execution_count": 1,
   "metadata": {},
   "outputs": [],
   "source": [
    "import random"
   ]
  },
  {
   "cell_type": "markdown",
   "metadata": {},
   "source": [
    "# Functions "
   ]
  },
  {
   "cell_type": "markdown",
   "metadata": {},
   "source": [
    "### PrintEnd Function"
   ]
  },
  {
   "cell_type": "code",
   "execution_count": 2,
   "metadata": {},
   "outputs": [],
   "source": [
    "def PrintEnd(Key,PlayerFlag,AIFlag,Board):\n",
    "    if(Key==3):\n",
    "        print()\n",
    "        print(\"本局平手 !\")\n",
    "    elif(Key==PlayerFlag):\n",
    "        print()\n",
    "        print(\"恭喜你勝利 !\")\n",
    "    else:\n",
    "        print()\n",
    "        PrintBoard(Board)\n",
    "        print()\n",
    "        print(\"真可惜 ~ 電腦勝利 !\")"
   ]
  },
  {
   "cell_type": "markdown",
   "metadata": {},
   "source": [
    "### IsWin Function"
   ]
  },
  {
   "cell_type": "code",
   "execution_count": 3,
   "metadata": {},
   "outputs": [],
   "source": [
    "def IsWin(Board,Flag):\n",
    "    \n",
    "    # 檢查橫向\n",
    "    if(Board[0]==Flag and Board[1]==Flag and Board[2]==Flag):\n",
    "        return Flag\n",
    "    elif(Board[3]==Flag and Board[4]==Flag and Board[5]==Flag):\n",
    "        return Flag\n",
    "    elif(Board[6]==Flag and Board[7]==Flag and Board[8]==Flag):\n",
    "        return Flag\n",
    "    \n",
    "    # 檢查縱向\n",
    "    elif(Board[6]==Flag and Board[3]==Flag and Board[0]==Flag):\n",
    "        return Flag\n",
    "    elif(Board[7]==Flag and Board[4]==Flag and Board[1]==Flag):\n",
    "        return Flag\n",
    "    elif(Board[8]==Flag and Board[5]==Flag and Board[2]==Flag):\n",
    "        return Flag\n",
    "    \n",
    "    # 檢查斜向\n",
    "    elif(Board[6]==Flag and Board[4]==Flag and Board[2]==Flag):\n",
    "        return Flag\n",
    "    elif(Board[0]==Flag and Board[4]==Flag and Board[8]==Flag):\n",
    "        return Flag\n",
    "    \n",
    "    else:\n",
    "        for i in range(0,9):\n",
    "            if(str(i) in Board):\n",
    "                return 0\n",
    "        return 3"
   ]
  },
  {
   "cell_type": "markdown",
   "metadata": {},
   "source": [
    "### FourPosition Function"
   ]
  },
  {
   "cell_type": "code",
   "execution_count": 4,
   "metadata": {},
   "outputs": [],
   "source": [
    "def FourPosition(Board,PositionList,AIFlag,PlayerFlag):\n",
    "    for i in PositionList:\n",
    "        if(Board[i]!=AIFlag and Board[i]!=PlayerFlag):\n",
    "            return True,i\n",
    "    \n",
    "    return False,-1"
   ]
  },
  {
   "cell_type": "markdown",
   "metadata": {},
   "source": [
    "### OneStepToWin Function"
   ]
  },
  {
   "cell_type": "code",
   "execution_count": 5,
   "metadata": {},
   "outputs": [],
   "source": [
    "def OneStepToWin(Board,Flag,CounterFlag):\n",
    "    \n",
    "    # 檢查橫向\n",
    "    if(Board[0]==Flag and Board[1]==Flag and Board[2]!=CounterFlag):\n",
    "        return True,2\n",
    "    elif(Board[2]==Flag and Board[1]==Flag and Board[0]!=CounterFlag ):\n",
    "        return True,0\n",
    "    elif(Board[0]==Flag and Board[2]==Flag and Board[1]!=CounterFlag ):\n",
    "        return True,1\n",
    "    elif(Board[3]==Flag and Board[4]==Flag and Board[5]!=CounterFlag):\n",
    "        return True,5\n",
    "    elif(Board[5]==Flag and Board[4]==Flag and Board[3]!=CounterFlag):\n",
    "        return True,3\n",
    "    elif(Board[3]==Flag and Board[5]==Flag and Board[4]!=CounterFlag ):\n",
    "        return True,4\n",
    "    elif(Board[6]==Flag and Board[7]==Flag and Board[8]!=CounterFlag):\n",
    "        return True,8\n",
    "    elif(Board[8]==Flag and Board[7]==Flag and Board[6]!=CounterFlag):\n",
    "        return True,6\n",
    "    elif(Board[6]==Flag and Board[8]==Flag and Board[7]!=CounterFlag ):\n",
    "        return True,7\n",
    "    \n",
    "    # 檢查縱向\n",
    "    elif(Board[0]==Flag and Board[3]==Flag and Board[6]!=CounterFlag):\n",
    "        return True,6\n",
    "    elif(Board[6]==Flag and Board[3]==Flag and Board[0]!=CounterFlag ):\n",
    "        return True,0\n",
    "    elif(Board[0]==Flag and Board[6]==Flag and Board[3]!=CounterFlag ):\n",
    "        return True,3\n",
    "    elif(Board[1]==Flag and Board[4]==Flag and Board[7]!=CounterFlag):\n",
    "        return True,7\n",
    "    elif(Board[7]==Flag and Board[4]==Flag and Board[1]!=CounterFlag):\n",
    "        return True,1\n",
    "    elif(Board[1]==Flag and Board[7]==Flag and Board[4]!=CounterFlag ):\n",
    "        return True,4\n",
    "    elif(Board[2]==Flag and Board[5]==Flag and Board[8]!=CounterFlag):\n",
    "        return True,8\n",
    "    elif(Board[8]==Flag and Board[5]==Flag and Board[2]!=CounterFlag):\n",
    "        return True,2\n",
    "    elif(Board[2]==Flag and Board[8]==Flag and Board[5]!=CounterFlag ):\n",
    "        return True,5\n",
    "    \n",
    "    # 檢查斜向\n",
    "    elif(Board[2]==Flag and Board[4]==Flag and Board[6]!=CounterFlag):\n",
    "        return True,6\n",
    "    elif(Board[6]==Flag and Board[4]==Flag and Board[2]!=CounterFlag):\n",
    "        return True,2\n",
    "    elif(Board[2]==Flag and Board[6]==Flag and Board[4]!=CounterFlag ):\n",
    "        return True,4\n",
    "    elif(Board[0]==Flag and Board[4]==Flag and Board[8]!=CounterFlag):\n",
    "        return True,8\n",
    "    elif(Board[8]==Flag and Board[4]==Flag and Board[0]!=CounterFlag):\n",
    "        return True,0\n",
    "    elif(Board[0]==Flag and Board[8]==Flag and Board[4]!=CounterFlag ):\n",
    "        return True,4\n",
    "    \n",
    "    else:\n",
    "        return False,-1"
   ]
  },
  {
   "cell_type": "markdown",
   "metadata": {},
   "source": [
    "### AIDraw Functiom"
   ]
  },
  {
   "cell_type": "code",
   "execution_count": 6,
   "metadata": {},
   "outputs": [],
   "source": [
    "def AIDraw(Board,AIFlag,PlayerFlag):\n",
    "    \n",
    "    # 先判斷 AI 有沒有可能一步勝利，要勝利\n",
    "    Possibility,Pos = OneStepToWin(Board,AIFlag,PlayerFlag)\n",
    "    if(Possibility):\n",
    "        Board[Pos]=AIFlag\n",
    "        return Board\n",
    "    \n",
    "    # 先判斷 玩家 有沒有可能一步勝利，要阻擋\n",
    "    Possibility,Pos = OneStepToWin(Board,PlayerFlag,AIFlag)\n",
    "    if(Possibility):\n",
    "        Board[Pos]=AIFlag\n",
    "        return Board\n",
    "    \n",
    "    # 優先佔領「上、下、左、右」四個位置\n",
    "    Possibility,Pos = FourPosition(Board,[1,3,5,7],AIFlag,PlayerFlag)\n",
    "    if(Possibility):\n",
    "        Board[Pos]=AIFlag\n",
    "        return Board\n",
    "    \n",
    "    # 佔領中間\n",
    "    Possibility,Pos = FourPosition(Board,[4],AIFlag,PlayerFlag)\n",
    "    if(Possibility):\n",
    "        Board[Pos]=AIFlag\n",
    "        return Board\n",
    "    \n",
    "    # 佔領「左上、右上、左下、右下」四個位置\n",
    "    Possibility,Pos = FourPosition(Board,[0,2,6,8],AIFlag,PlayerFlag)\n",
    "    if(Possibility):\n",
    "        Board[Pos]=AIFlag\n",
    "        return Board"
   ]
  },
  {
   "cell_type": "markdown",
   "metadata": {},
   "source": [
    "### CheckPosition Function"
   ]
  },
  {
   "cell_type": "code",
   "execution_count": 7,
   "metadata": {},
   "outputs": [],
   "source": [
    "def CheckPosition(Board,pos):\n",
    "    if(pos in Board):\n",
    "        return True\n",
    "    else:\n",
    "        return False"
   ]
  },
  {
   "cell_type": "markdown",
   "metadata": {},
   "source": [
    "### PlayerDraw Function"
   ]
  },
  {
   "cell_type": "code",
   "execution_count": 8,
   "metadata": {},
   "outputs": [],
   "source": [
    "def PlayerDraw(Board,PlayerFlag):\n",
    "    print()\n",
    "    pos = input(\"你的 \"+PlayerFlag+\" 要畫在哪裡 ? \")\n",
    "    \n",
    "    if CheckPosition(Board,pos):\n",
    "        Board[int(pos)]=PlayerFlag\n",
    "        return Board,True\n",
    "    else:\n",
    "        return Board,False"
   ]
  },
  {
   "cell_type": "markdown",
   "metadata": {},
   "source": [
    "### RandomChooseStart Function"
   ]
  },
  {
   "cell_type": "code",
   "execution_count": 9,
   "metadata": {},
   "outputs": [],
   "source": [
    "def RandomChooseStart():\n",
    "    choose = ['player','ai']\n",
    "    return random.choice(choose)"
   ]
  },
  {
   "cell_type": "markdown",
   "metadata": {},
   "source": [
    "### PrintWelcome Function"
   ]
  },
  {
   "cell_type": "code",
   "execution_count": 10,
   "metadata": {},
   "outputs": [],
   "source": [
    "def PrintWelcome():\n",
    "    print(\"歡迎進入遊戲 : 圈圈叉叉\")\n",
    "    print()\n",
    "    print(\"你想要當 X or O ?\")\n",
    "    PlayerFlag = input()\n",
    "    if(PlayerFlag=='X'):\n",
    "        AIFlag='O'\n",
    "    else:\n",
    "        AIFlag='X'\n",
    "    return PlayerFlag,AIFlag"
   ]
  },
  {
   "cell_type": "markdown",
   "metadata": {},
   "source": [
    "### PrintBoard Function"
   ]
  },
  {
   "cell_type": "code",
   "execution_count": 11,
   "metadata": {},
   "outputs": [],
   "source": [
    "def PrintBoard(Board):\n",
    "    print()\n",
    "    print(Board[6]+\" | \"+Board[7]+\" | \"+Board[8])\n",
    "    print(\"---------\")\n",
    "    print(Board[3]+\" | \"+Board[4]+\" | \"+Board[5])\n",
    "    print(\"---------\")\n",
    "    print(Board[0]+\" | \"+Board[1]+\" | \"+Board[2])"
   ]
  },
  {
   "cell_type": "markdown",
   "metadata": {},
   "source": [
    "# Main Driver"
   ]
  },
  {
   "cell_type": "code",
   "execution_count": 13,
   "metadata": {},
   "outputs": [
    {
     "name": "stdout",
     "output_type": "stream",
     "text": [
      "歡迎進入遊戲 : 圈圈叉叉\n",
      "\n",
      "你想要當 X or O ?\n",
      "X\n",
      "\n",
      "這場由「你」開始 !\n",
      "\n",
      "6 | 7 | 8\n",
      "---------\n",
      "3 | 4 | 5\n",
      "---------\n",
      "0 | 1 | 2\n",
      "\n",
      "你的 X 要畫在哪裡 ? 4\n",
      "\n",
      "6 | 7 | 8\n",
      "---------\n",
      "3 | X | 5\n",
      "---------\n",
      "0 | 1 | 2\n",
      "\n",
      "6 | 7 | 8\n",
      "---------\n",
      "3 | X | 5\n",
      "---------\n",
      "0 | O | 2\n",
      "\n",
      "你的 X 要畫在哪裡 ? 5\n",
      "\n",
      "6 | 7 | 8\n",
      "---------\n",
      "3 | X | X\n",
      "---------\n",
      "0 | O | 2\n",
      "\n",
      "6 | 7 | 8\n",
      "---------\n",
      "O | X | X\n",
      "---------\n",
      "0 | O | 2\n",
      "\n",
      "你的 X 要畫在哪裡 ? 2\n",
      "\n",
      "6 | 7 | 8\n",
      "---------\n",
      "O | X | X\n",
      "---------\n",
      "0 | O | X\n",
      "\n",
      "6 | 7 | O\n",
      "---------\n",
      "O | X | X\n",
      "---------\n",
      "0 | O | X\n",
      "\n",
      "你的 X 要畫在哪裡 ? 6\n",
      "\n",
      "恭喜你勝利 !\n"
     ]
    }
   ],
   "source": [
    "if __name__ == \"__main__\":\n",
    "    \n",
    "    # 9宮格作為「圈圈叉叉」的圖表\n",
    "    #    6 7 8\n",
    "    #    3 4 5\n",
    "    #    0 1 2\n",
    "    Board = ['0','1','2','3','4','5','6','7','8']\n",
    "    \n",
    "    # 顯示開始訊息\n",
    "    PlayerFlag, AIFlag = PrintWelcome()\n",
    "    \n",
    "    # 隨機決定誰先開始\n",
    "    random.seed()\n",
    "    Turn = RandomChooseStart()\n",
    "    if(Turn=='ai'):\n",
    "        print()\n",
    "        print(\"這場由「電腦」開始 !\")\n",
    "    else:\n",
    "        print()\n",
    "        print(\"這場由「你」開始 !\")\n",
    "    \n",
    "        \n",
    "    # 開始進行遊戲，直到分出勝負或是平手\n",
    "    GameFlag=0\n",
    "    # 0 表示尚未分出勝負\n",
    "    # 3 表示平手\n",
    "    while GameFlag==0:\n",
    "        \n",
    "        # 將 Board 顯示出來\n",
    "        PrintBoard(Board)\n",
    "        \n",
    "        if(Turn=='player'):\n",
    "            \n",
    "            # 由玩家畫\n",
    "            Board,IsSuccess = PlayerDraw(Board,PlayerFlag)\n",
    "            \n",
    "            while not(IsSuccess):\n",
    "                print(\"這個位置你不能畫 !\")\n",
    "                print(\"請重畫 !\")\n",
    "                Board,IsSuccess = PlayerDraw(Board,PlayerFlag)\n",
    "            \n",
    "            # 判斷是否分出勝負\n",
    "            GameFlag = IsWin(Board,PlayerFlag)\n",
    "            \n",
    "            # 輪到電腦\n",
    "            Turn='ai'\n",
    "            \n",
    "        else:\n",
    "            # 由 AI 畫\n",
    "            Board=AIDraw(Board,AIFlag,PlayerFlag)\n",
    "            \n",
    "            # 判斷是否分出勝負\n",
    "            GameFlag = IsWin(Board,AIFlag)\n",
    "            \n",
    "            # 輪到玩家\n",
    "            Turn='player'\n",
    "            \n",
    "    # 離開 While Loop 代表分出勝負\n",
    "    PrintEnd(GameFlag,PlayerFlag,AIFlag,Board)"
   ]
  },
  {
   "cell_type": "code",
   "execution_count": null,
   "metadata": {},
   "outputs": [],
   "source": []
  }
 ],
 "metadata": {
  "kernelspec": {
   "display_name": "Python 3",
   "language": "python",
   "name": "python3"
  },
  "language_info": {
   "codemirror_mode": {
    "name": "ipython",
    "version": 3
   },
   "file_extension": ".py",
   "mimetype": "text/x-python",
   "name": "python",
   "nbconvert_exporter": "python",
   "pygments_lexer": "ipython3",
   "version": "3.6.8"
  }
 },
 "nbformat": 4,
 "nbformat_minor": 2
}
